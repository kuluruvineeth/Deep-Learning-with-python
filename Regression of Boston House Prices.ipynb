{
 "cells": [
  {
   "cell_type": "markdown",
   "id": "hidden-battle",
   "metadata": {},
   "source": [
    "# 1. Develop a Baseline Neural Network Model"
   ]
  },
  {
   "cell_type": "code",
   "execution_count": 2,
   "id": "maritime-account",
   "metadata": {},
   "outputs": [],
   "source": [
    "import numpy as np\n",
    "import pandas as pd\n",
    "from keras.models import Sequential\n",
    "from keras.layers import Dense\n",
    "from keras.wrappers.scikit_learn import KerasRegressor\n",
    "from sklearn.model_selection import cross_val_score\n",
    "from sklearn.model_selection import KFold\n",
    "from sklearn.preprocessing import StandardScaler\n",
    "from sklearn.pipeline import Pipeline"
   ]
  },
  {
   "cell_type": "code",
   "execution_count": 3,
   "id": "adjusted-citizenship",
   "metadata": {},
   "outputs": [],
   "source": [
    "# load dataset\n",
    "dataframe = pd.read_csv('housing.csv',delim_whitespace=True,header=None)\n",
    "dataset = dataframe.values\n",
    "\n",
    "# split into input(X) and output(Y) variables\n",
    "X = dataset[:,0:13]\n",
    "Y = dataset[:,13]"
   ]
  },
  {
   "cell_type": "code",
   "execution_count": 4,
   "id": "harmful-healthcare",
   "metadata": {},
   "outputs": [],
   "source": [
    "# define base model\n",
    "def baseline_model():\n",
    "    model = Sequential()\n",
    "    model.add(Dense(13,input_dim=13,activation='relu'))\n",
    "    model.add(Dense(1))\n",
    "    model.compile(loss='mean_squared_error',optimizer='adam')\n",
    "    return model"
   ]
  },
  {
   "cell_type": "code",
   "execution_count": 5,
   "id": "parental-holly",
   "metadata": {},
   "outputs": [],
   "source": [
    "# fix random seed for reproducibility\n",
    "seed = 7\n",
    "np.random.seed(seed)"
   ]
  },
  {
   "cell_type": "code",
   "execution_count": 6,
   "id": "running-suggestion",
   "metadata": {},
   "outputs": [],
   "source": [
    "# evaluate model with standardized dataset\n",
    "estimator = KerasRegressor(build_fn=baseline_model,epochs=100,batch_size=5,verbose=0)"
   ]
  },
  {
   "cell_type": "code",
   "execution_count": 7,
   "id": "digital-victor",
   "metadata": {},
   "outputs": [
    {
     "name": "stdout",
     "output_type": "stream",
     "text": [
      "Baseline: -32.86 (9.52) MSE\n"
     ]
    }
   ],
   "source": [
    "kfold = KFold(n_splits=10,shuffle=True,random_state=seed)\n",
    "results = cross_val_score(estimator,X,Y,cv=kfold)\n",
    "print(\"Baseline: %.2f (%.2f) MSE\"%(results.mean(),results.std()))"
   ]
  },
  {
   "cell_type": "markdown",
   "id": "mounted-compatibility",
   "metadata": {},
   "source": [
    "# 2. Lift Performance By Standardizing The Dataset"
   ]
  },
  {
   "cell_type": "code",
   "execution_count": 8,
   "id": "narrative-dollar",
   "metadata": {},
   "outputs": [
    {
     "name": "stdout",
     "output_type": "stream",
     "text": [
      "Baseline: -19.06 (10.54) MSE\n"
     ]
    }
   ],
   "source": [
    "# evaluate model with standardized dataset\n",
    "estimators = []\n",
    "estimators.append(('standardize',StandardScaler()))\n",
    "estimators.append(('mlp',KerasRegressor(build_fn=baseline_model,epochs=50,batch_size=5,verbose=0)))\n",
    "pipeline = Pipeline(estimators)\n",
    "kfold = KFold(n_splits=10,shuffle=True,random_state=seed)\n",
    "results = cross_val_score(pipeline,X,Y,cv=kfold)\n",
    "print(\"Baseline: %.2f (%.2f) MSE\"%(results.mean(),results.std()))"
   ]
  },
  {
   "cell_type": "markdown",
   "id": "enabling-round",
   "metadata": {},
   "source": [
    "# 3. Tune The Neural Network Topology"
   ]
  },
  {
   "cell_type": "markdown",
   "id": "brown-mitchell",
   "metadata": {},
   "source": [
    "## 3.1 Evaluate Deeper Network Topology\n",
    "* 13 inputs -> [13->6] -> 1 output"
   ]
  },
  {
   "cell_type": "code",
   "execution_count": 11,
   "id": "corporate-change",
   "metadata": {},
   "outputs": [
    {
     "name": "stdout",
     "output_type": "stream",
     "text": [
      "Baseline: -14.43 (8.74) MSE\n"
     ]
    }
   ],
   "source": [
    "# define the model\n",
    "def larger_model():\n",
    "    model = Sequential()\n",
    "    model.add(Dense(13,input_dim=13,activation='relu'))\n",
    "    model.add(Dense(6,activation='relu'))\n",
    "    model.add(Dense(1))\n",
    "    model.compile(loss='mean_squared_error',optimizer='adam')\n",
    "    return model\n",
    "\n",
    "estimators = []\n",
    "estimators.append(('standardize',StandardScaler()))\n",
    "estimators.append(('mlp',KerasRegressor(build_fn=larger_model,epochs=50,batch_size=5,verbose=0)))\n",
    "pipeline = Pipeline(estimators)\n",
    "kfold = KFold(n_splits=10,shuffle=True,random_state=seed)\n",
    "results = cross_val_score(pipeline,X,Y,cv=kfold)\n",
    "print(\"Baseline: %.2f (%.2f) MSE\"%(results.mean(),results.std()))\n"
   ]
  },
  {
   "cell_type": "markdown",
   "id": "british-yukon",
   "metadata": {},
   "source": [
    "## 3.2 Evaluate a Wider Network Topology\n",
    "* 13 inputs -> [20] -> 1 output"
   ]
  },
  {
   "cell_type": "code",
   "execution_count": 12,
   "id": "caring-agreement",
   "metadata": {},
   "outputs": [
    {
     "name": "stdout",
     "output_type": "stream",
     "text": [
      "Baseline: -15.14 (8.56) MSE\n"
     ]
    }
   ],
   "source": [
    "# define the model\n",
    "def wider_model():\n",
    "    model = Sequential()\n",
    "    model.add(Dense(20,input_dim=13,activation='relu'))\n",
    "    model.add(Dense(1))\n",
    "    model.compile(loss='mean_squared_error',optimizer='adam')\n",
    "    return model\n",
    "\n",
    "estimators = []\n",
    "estimators.append(('standardize',StandardScaler()))\n",
    "estimators.append(('mlp',KerasRegressor(build_fn=wider_model,epochs=50,batch_size=5,verbose=0)))\n",
    "pipeline = Pipeline(estimators)\n",
    "kfold = KFold(n_splits=10,shuffle=True,random_state=seed)\n",
    "results = cross_val_score(pipeline,X,Y,cv=kfold)\n",
    "print(\"Baseline: %.2f (%.2f) MSE\"%(results.mean(),results.std()))\n"
   ]
  },
  {
   "cell_type": "markdown",
   "id": "elect-chain",
   "metadata": {},
   "source": [
    "# Summary\n",
    "* Discovered the Keras deep learning library for modelling regression problems."
   ]
  },
  {
   "cell_type": "code",
   "execution_count": null,
   "id": "beneficial-democracy",
   "metadata": {},
   "outputs": [],
   "source": []
  }
 ],
 "metadata": {
  "kernelspec": {
   "display_name": "Python 3",
   "language": "python",
   "name": "python3"
  },
  "language_info": {
   "codemirror_mode": {
    "name": "ipython",
    "version": 3
   },
   "file_extension": ".py",
   "mimetype": "text/x-python",
   "name": "python",
   "nbconvert_exporter": "python",
   "pygments_lexer": "ipython3",
   "version": "3.7.5"
  }
 },
 "nbformat": 4,
 "nbformat_minor": 5
}
